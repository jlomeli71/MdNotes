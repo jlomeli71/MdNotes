{
  "nbformat": 4,
  "nbformat_minor": 0,
  "metadata": {
    "colab": {
      "provenance": [],
      "authorship_tag": "ABX9TyPA1onTZB879XoRmHLPfVD+",
      "include_colab_link": true
    },
    "kernelspec": {
      "name": "python3",
      "display_name": "Python 3"
    },
    "language_info": {
      "name": "python"
    }
  },
  "cells": [
    {
      "cell_type": "markdown",
      "metadata": {
        "id": "view-in-github",
        "colab_type": "text"
      },
      "source": [
        "<a href=\"https://colab.research.google.com/github/jlomeli71/md-notes/blob/main/cloud_test.ipynb\" target=\"_parent\"><img src=\"https://colab.research.google.com/assets/colab-badge.svg\" alt=\"Open In Colab\"/></a>"
      ]
    },
    {
      "cell_type": "markdown",
      "source": [
        "## Practice Markdown"
      ],
      "metadata": {
        "id": "XLI6qj0Xb7pd"
      }
    },
    {
      "cell_type": "markdown",
      "source": [
        "This notebook lets you experiment with producing repeatable technical documentation.  Use this notebook to do the following actions:\n",
        "\n",
        "* Create a code cell and print a Python Hello World statement:  `print(\"hello world\")`\n",
        "* Create a Markdown Cell and add a Title using `#` and then a statement using plain text.  You can looks at the source code for this cell to get an idea of how to use Markdown.\n",
        "* Take some ideas from the [Master Markdown Github Guide](https://guides.github.com/features/mastering-markdown/) and implement them here.\n",
        "* Download this notebook as a `.ipynb` file and check into a Github Project.  You can [see an example here](https://github.com/noahgift/duke-coursera-ccf-lab1/blob/main/Practice-Markdown.ipynb).\n",
        "* Open your notebook in Google Colab and save it into the same Github Project.  You can [see an example here](https://github.com/noahgift/duke-coursera-ccf-lab1/blob/main/Practice_Markdown_with_colab.ipynb)."
      ],
      "metadata": {
        "id": "277oZJ-pb9dn"
      }
    },
    {
      "cell_type": "code",
      "source": [
        "print(\"hello world\")"
      ],
      "metadata": {
        "id": "ySZji1lpcHWH",
        "outputId": "55a6f977-8351-4850-8461-0112995ba330",
        "colab": {
          "base_uri": "https://localhost:8080/"
        }
      },
      "execution_count": 1,
      "outputs": [
        {
          "output_type": "stream",
          "name": "stdout",
          "text": [
            "hello world\n"
          ]
        }
      ]
    },
    {
      "cell_type": "markdown",
      "source": [
        "# Heading 1\n",
        "## Heading 2\n",
        "### Heading 3"
      ],
      "metadata": {
        "id": "xd1vOe71cUdt"
      }
    },
    {
      "cell_type": "markdown",
      "source": [
        "**This is bold text** <br>\n",
        "*This text is italicized* <br>\n",
        "~~This was mistaken text~~\n",
        "> This text is a quote"
      ],
      "metadata": {
        "id": "u7j2kKz6clhi"
      }
    },
    {
      "cell_type": "markdown",
      "source": [
        "This is an image\n",
        "![This is an image](https://img.icons8.com/emoji/2x/artist-palette.png)"
      ],
      "metadata": {
        "id": "sDVzBZDPcnkM"
      }
    },
    {
      "cell_type": "markdown",
      "source": [
        "This is a list \n",
        "* one\n",
        "* two\n",
        "* three"
      ],
      "metadata": {
        "id": "LzK6WjLld-bi"
      }
    },
    {
      "cell_type": "code",
      "source": [],
      "metadata": {
        "id": "QZbok4ATeDeN"
      },
      "execution_count": null,
      "outputs": []
    }
  ]
}